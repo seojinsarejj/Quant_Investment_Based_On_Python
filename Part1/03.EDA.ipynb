{
 "cells": [
  {
   "cell_type": "code",
   "execution_count": 2,
   "metadata": {},
   "outputs": [],
   "source": [
    "import numpy as np\n",
    "import pandas as pd\n",
    "\n",
    "from IPython.core.interactiveshell import InteractiveShell\n",
    "InteractiveShell.ast_node_interactivity = \"all\"\n",
    "\n",
    "pd.set_option('display.float_format', lambda x : '%.3f' % x)\n",
    "pd.set_option('max_columns', None)"
   ]
  },
  {
   "cell_type": "markdown",
   "metadata": {},
   "source": [
    "## Load data using `read_csv`"
   ]
  },
  {
   "cell_type": "markdown",
   "metadata": {},
   "source": [
    "- 미국시장 재무재표 데이터 크롤링"
   ]
  },
  {
   "cell_type": "code",
   "execution_count": 3,
   "metadata": {},
   "outputs": [
    {
     "data": {
      "text/html": [
       "<div>\n",
       "<style scoped>\n",
       "    .dataframe tbody tr th:only-of-type {\n",
       "        vertical-align: middle;\n",
       "    }\n",
       "\n",
       "    .dataframe tbody tr th {\n",
       "        vertical-align: top;\n",
       "    }\n",
       "\n",
       "    .dataframe thead th {\n",
       "        text-align: right;\n",
       "    }\n",
       "</style>\n",
       "<table border=\"1\" class=\"dataframe\">\n",
       "  <thead>\n",
       "    <tr style=\"text-align: right;\">\n",
       "      <th></th>\n",
       "      <th>ticker</th>\n",
       "      <th>매출액(억원)</th>\n",
       "      <th>영업이익률(%)</th>\n",
       "      <th>순이익률(%)</th>\n",
       "      <th>당기순이익(억원)</th>\n",
       "      <th>ROE(%)</th>\n",
       "      <th>ROA(%)</th>\n",
       "      <th>ROIC(%)</th>\n",
       "      <th>EPS(원)</th>\n",
       "      <th>BPS(원)</th>\n",
       "      <th>SPS(원)</th>\n",
       "      <th>PER(배)</th>\n",
       "      <th>PBR(배)</th>\n",
       "      <th>PSR(배)</th>\n",
       "      <th>price</th>\n",
       "      <th>price2</th>\n",
       "    </tr>\n",
       "  </thead>\n",
       "  <tbody>\n",
       "    <tr>\n",
       "      <th>0</th>\n",
       "      <td>AK홀딩스</td>\n",
       "      <td>28071.479</td>\n",
       "      <td>3.787</td>\n",
       "      <td>-1.334</td>\n",
       "      <td>-374.431</td>\n",
       "      <td>-7.677</td>\n",
       "      <td>-1.421</td>\n",
       "      <td>15.120</td>\n",
       "      <td>-3245.741</td>\n",
       "      <td>43497.723</td>\n",
       "      <td>211899.220</td>\n",
       "      <td>-19.472</td>\n",
       "      <td>1.453</td>\n",
       "      <td>0.298</td>\n",
       "      <td>63200.000</td>\n",
       "      <td>56000.000</td>\n",
       "    </tr>\n",
       "    <tr>\n",
       "      <th>1</th>\n",
       "      <td>BGF</td>\n",
       "      <td>43342.800</td>\n",
       "      <td>4.236</td>\n",
       "      <td>3.526</td>\n",
       "      <td>1528.413</td>\n",
       "      <td>22.771</td>\n",
       "      <td>10.327</td>\n",
       "      <td>271.957</td>\n",
       "      <td>3071.872</td>\n",
       "      <td>15605.457</td>\n",
       "      <td>87779.875</td>\n",
       "      <td>28.779</td>\n",
       "      <td>5.665</td>\n",
       "      <td>1.007</td>\n",
       "      <td>44202.000</td>\n",
       "      <td>42140.000</td>\n",
       "    </tr>\n",
       "    <tr>\n",
       "      <th>2</th>\n",
       "      <td>BNK금융지주</td>\n",
       "      <td>51740.254</td>\n",
       "      <td>13.455</td>\n",
       "      <td>10.253</td>\n",
       "      <td>5304.712</td>\n",
       "      <td>9.116</td>\n",
       "      <td>0.609</td>\n",
       "      <td>NaN</td>\n",
       "      <td>1853.180</td>\n",
       "      <td>21665.062</td>\n",
       "      <td>19749.037</td>\n",
       "      <td>4.544</td>\n",
       "      <td>0.389</td>\n",
       "      <td>0.426</td>\n",
       "      <td>8420.000</td>\n",
       "      <td>8680.000</td>\n",
       "    </tr>\n",
       "    <tr>\n",
       "      <th>3</th>\n",
       "      <td>BYC</td>\n",
       "      <td>1821.960</td>\n",
       "      <td>11.598</td>\n",
       "      <td>7.222</td>\n",
       "      <td>131.581</td>\n",
       "      <td>3.546</td>\n",
       "      <td>2.024</td>\n",
       "      <td>13.235</td>\n",
       "      <td>15693.808</td>\n",
       "      <td>453030.620</td>\n",
       "      <td>216899.980</td>\n",
       "      <td>29.279</td>\n",
       "      <td>1.014</td>\n",
       "      <td>2.118</td>\n",
       "      <td>459500.000</td>\n",
       "      <td>397000.000</td>\n",
       "    </tr>\n",
       "    <tr>\n",
       "      <th>4</th>\n",
       "      <td>CJ</td>\n",
       "      <td>211667.080</td>\n",
       "      <td>5.789</td>\n",
       "      <td>2.604</td>\n",
       "      <td>5511.155</td>\n",
       "      <td>5.874</td>\n",
       "      <td>2.365</td>\n",
       "      <td>5.821</td>\n",
       "      <td>5780.626</td>\n",
       "      <td>110304.560</td>\n",
       "      <td>594563.900</td>\n",
       "      <td>40.944</td>\n",
       "      <td>2.146</td>\n",
       "      <td>0.398</td>\n",
       "      <td>236684.000</td>\n",
       "      <td>176334.000</td>\n",
       "    </tr>\n",
       "  </tbody>\n",
       "</table>\n",
       "</div>"
      ],
      "text/plain": [
       "    ticker    매출액(억원)  영업이익률(%)  순이익률(%)  당기순이익(억원)  ROE(%)  ROA(%)  ROIC(%)  \\\n",
       "0    AK홀딩스  28071.479     3.787   -1.334   -374.431  -7.677  -1.421   15.120   \n",
       "1      BGF  43342.800     4.236    3.526   1528.413  22.771  10.327  271.957   \n",
       "2  BNK금융지주  51740.254    13.455   10.253   5304.712   9.116   0.609      NaN   \n",
       "3      BYC   1821.960    11.598    7.222    131.581   3.546   2.024   13.235   \n",
       "4       CJ 211667.080     5.789    2.604   5511.155   5.874   2.365    5.821   \n",
       "\n",
       "     EPS(원)     BPS(원)     SPS(원)  PER(배)  PBR(배)  PSR(배)      price  \\\n",
       "0 -3245.741  43497.723 211899.220 -19.472   1.453   0.298  63200.000   \n",
       "1  3071.872  15605.457  87779.875  28.779   5.665   1.007  44202.000   \n",
       "2  1853.180  21665.062  19749.037   4.544   0.389   0.426   8420.000   \n",
       "3 15693.808 453030.620 216899.980  29.279   1.014   2.118 459500.000   \n",
       "4  5780.626 110304.560 594563.900  40.944   2.146   0.398 236684.000   \n",
       "\n",
       "      price2  \n",
       "0  56000.000  \n",
       "1  42140.000  \n",
       "2   8680.000  \n",
       "3 397000.000  \n",
       "4 176334.000  "
      ]
     },
     "execution_count": 3,
     "metadata": {},
     "output_type": "execute_result"
    }
   ],
   "source": [
    "df = pd.read_csv(\"../inflearn_pandas_part1_material/my_data/naver_finance/2015_12.csv\")\n",
    "df.head()"
   ]
  },
  {
   "cell_type": "markdown",
   "metadata": {},
   "source": [
    "## Exploratory Data Analysis (EDA)"
   ]
  },
  {
   "cell_type": "markdown",
   "metadata": {},
   "source": [
    "- In statistics, exploratory data analysis (EDA) is an approach to analyzing data sets to summarize their maincharacteristics, often with visual methods(wiki)\n",
    "- Two parts\n",
    "  - Metadata : data about data\n",
    "    - 데이터 크기\n",
    "    - 컬럼명\n",
    "    - 데이터 타입\n",
    "    - 비어 있는 데이터\n",
    "    - etc\n",
    "  - Univariate descriptive statics: summary statistics about individual variables(columns)"
   ]
  },
  {
   "cell_type": "markdown",
   "metadata": {},
   "source": [
    "### Metadata"
   ]
  },
  {
   "cell_type": "code",
   "execution_count": 4,
   "metadata": {},
   "outputs": [
    {
     "data": {
      "text/plain": [
       "(681, 16)"
      ]
     },
     "execution_count": 4,
     "metadata": {},
     "output_type": "execute_result"
    }
   ],
   "source": [
    "df.shape"
   ]
  },
  {
   "cell_type": "code",
   "execution_count": 9,
   "metadata": {},
   "outputs": [
    {
     "name": "stdout",
     "output_type": "stream",
     "text": [
      "<class 'pandas.core.frame.DataFrame'>\n",
      "RangeIndex: 681 entries, 0 to 680\n",
      "Data columns (total 16 columns):\n",
      " #   Column     Non-Null Count  Dtype  \n",
      "---  ------     --------------  -----  \n",
      " 0   ticker     681 non-null    object \n",
      " 1   매출액(억원)    680 non-null    float64\n",
      " 2   영업이익률(%)   680 non-null    float64\n",
      " 3   순이익률(%)    680 non-null    float64\n",
      " 4   당기순이익(억원)  680 non-null    float64\n",
      " 5   ROE(%)     665 non-null    float64\n",
      " 6   ROA(%)     665 non-null    float64\n",
      " 7   ROIC(%)    611 non-null    float64\n",
      " 8   EPS(원)     681 non-null    float64\n",
      " 9   BPS(원)     681 non-null    float64\n",
      " 10  SPS(원)     681 non-null    float64\n",
      " 11  PER(배)     668 non-null    float64\n",
      " 12  PBR(배)     681 non-null    float64\n",
      " 13  PSR(배)     668 non-null    float64\n",
      " 14  price      681 non-null    float64\n",
      " 15  price2     681 non-null    float64\n",
      "dtypes: float64(15), object(1)\n",
      "memory usage: 85.2+ KB\n"
     ]
    }
   ],
   "source": [
    "df.info()"
   ]
  },
  {
   "cell_type": "code",
   "execution_count": 12,
   "metadata": {},
   "outputs": [
    {
     "data": {
      "text/plain": [
       "dtype('O')"
      ]
     },
     "execution_count": 12,
     "metadata": {},
     "output_type": "execute_result"
    }
   ],
   "source": [
    "df['ticker'].dtype"
   ]
  },
  {
   "cell_type": "markdown",
   "metadata": {},
   "source": [
    "### Rename Column"
   ]
  },
  {
   "cell_type": "code",
   "execution_count": 13,
   "metadata": {},
   "outputs": [
    {
     "data": {
      "text/html": [
       "<div>\n",
       "<style scoped>\n",
       "    .dataframe tbody tr th:only-of-type {\n",
       "        vertical-align: middle;\n",
       "    }\n",
       "\n",
       "    .dataframe tbody tr th {\n",
       "        vertical-align: top;\n",
       "    }\n",
       "\n",
       "    .dataframe thead th {\n",
       "        text-align: right;\n",
       "    }\n",
       "</style>\n",
       "<table border=\"1\" class=\"dataframe\">\n",
       "  <thead>\n",
       "    <tr style=\"text-align: right;\">\n",
       "      <th></th>\n",
       "      <th>종목명</th>\n",
       "      <th>매출액(억원)</th>\n",
       "      <th>영업이익률(%)</th>\n",
       "      <th>순이익률(%)</th>\n",
       "      <th>당기순이익(억원)</th>\n",
       "      <th>ROE(%)</th>\n",
       "      <th>ROA(%)</th>\n",
       "      <th>ROIC(%)</th>\n",
       "      <th>EPS(원)</th>\n",
       "      <th>BPS(원)</th>\n",
       "      <th>SPS(원)</th>\n",
       "      <th>PER(배)</th>\n",
       "      <th>PBR(배)</th>\n",
       "      <th>PSR(배)</th>\n",
       "      <th>price</th>\n",
       "      <th>price2</th>\n",
       "    </tr>\n",
       "  </thead>\n",
       "  <tbody>\n",
       "    <tr>\n",
       "      <th>0</th>\n",
       "      <td>AK홀딩스</td>\n",
       "      <td>28071.479</td>\n",
       "      <td>3.787</td>\n",
       "      <td>-1.334</td>\n",
       "      <td>-374.431</td>\n",
       "      <td>-7.677</td>\n",
       "      <td>-1.421</td>\n",
       "      <td>15.120</td>\n",
       "      <td>-3245.741</td>\n",
       "      <td>43497.723</td>\n",
       "      <td>211899.220</td>\n",
       "      <td>-19.472</td>\n",
       "      <td>1.453</td>\n",
       "      <td>0.298</td>\n",
       "      <td>63200.000</td>\n",
       "      <td>56000.000</td>\n",
       "    </tr>\n",
       "    <tr>\n",
       "      <th>1</th>\n",
       "      <td>BGF</td>\n",
       "      <td>43342.800</td>\n",
       "      <td>4.236</td>\n",
       "      <td>3.526</td>\n",
       "      <td>1528.413</td>\n",
       "      <td>22.771</td>\n",
       "      <td>10.327</td>\n",
       "      <td>271.957</td>\n",
       "      <td>3071.872</td>\n",
       "      <td>15605.457</td>\n",
       "      <td>87779.875</td>\n",
       "      <td>28.779</td>\n",
       "      <td>5.665</td>\n",
       "      <td>1.007</td>\n",
       "      <td>44202.000</td>\n",
       "      <td>42140.000</td>\n",
       "    </tr>\n",
       "    <tr>\n",
       "      <th>2</th>\n",
       "      <td>BNK금융지주</td>\n",
       "      <td>51740.254</td>\n",
       "      <td>13.455</td>\n",
       "      <td>10.253</td>\n",
       "      <td>5304.712</td>\n",
       "      <td>9.116</td>\n",
       "      <td>0.609</td>\n",
       "      <td>NaN</td>\n",
       "      <td>1853.180</td>\n",
       "      <td>21665.062</td>\n",
       "      <td>19749.037</td>\n",
       "      <td>4.544</td>\n",
       "      <td>0.389</td>\n",
       "      <td>0.426</td>\n",
       "      <td>8420.000</td>\n",
       "      <td>8680.000</td>\n",
       "    </tr>\n",
       "    <tr>\n",
       "      <th>3</th>\n",
       "      <td>BYC</td>\n",
       "      <td>1821.960</td>\n",
       "      <td>11.598</td>\n",
       "      <td>7.222</td>\n",
       "      <td>131.581</td>\n",
       "      <td>3.546</td>\n",
       "      <td>2.024</td>\n",
       "      <td>13.235</td>\n",
       "      <td>15693.808</td>\n",
       "      <td>453030.620</td>\n",
       "      <td>216899.980</td>\n",
       "      <td>29.279</td>\n",
       "      <td>1.014</td>\n",
       "      <td>2.118</td>\n",
       "      <td>459500.000</td>\n",
       "      <td>397000.000</td>\n",
       "    </tr>\n",
       "    <tr>\n",
       "      <th>4</th>\n",
       "      <td>CJ</td>\n",
       "      <td>211667.080</td>\n",
       "      <td>5.789</td>\n",
       "      <td>2.604</td>\n",
       "      <td>5511.155</td>\n",
       "      <td>5.874</td>\n",
       "      <td>2.365</td>\n",
       "      <td>5.821</td>\n",
       "      <td>5780.626</td>\n",
       "      <td>110304.560</td>\n",
       "      <td>594563.900</td>\n",
       "      <td>40.944</td>\n",
       "      <td>2.146</td>\n",
       "      <td>0.398</td>\n",
       "      <td>236684.000</td>\n",
       "      <td>176334.000</td>\n",
       "    </tr>\n",
       "  </tbody>\n",
       "</table>\n",
       "</div>"
      ],
      "text/plain": [
       "       종목명    매출액(억원)  영업이익률(%)  순이익률(%)  당기순이익(억원)  ROE(%)  ROA(%)  ROIC(%)  \\\n",
       "0    AK홀딩스  28071.479     3.787   -1.334   -374.431  -7.677  -1.421   15.120   \n",
       "1      BGF  43342.800     4.236    3.526   1528.413  22.771  10.327  271.957   \n",
       "2  BNK금융지주  51740.254    13.455   10.253   5304.712   9.116   0.609      NaN   \n",
       "3      BYC   1821.960    11.598    7.222    131.581   3.546   2.024   13.235   \n",
       "4       CJ 211667.080     5.789    2.604   5511.155   5.874   2.365    5.821   \n",
       "\n",
       "     EPS(원)     BPS(원)     SPS(원)  PER(배)  PBR(배)  PSR(배)      price  \\\n",
       "0 -3245.741  43497.723 211899.220 -19.472   1.453   0.298  63200.000   \n",
       "1  3071.872  15605.457  87779.875  28.779   5.665   1.007  44202.000   \n",
       "2  1853.180  21665.062  19749.037   4.544   0.389   0.426   8420.000   \n",
       "3 15693.808 453030.620 216899.980  29.279   1.014   2.118 459500.000   \n",
       "4  5780.626 110304.560 594563.900  40.944   2.146   0.398 236684.000   \n",
       "\n",
       "      price2  \n",
       "0  56000.000  \n",
       "1  42140.000  \n",
       "2   8680.000  \n",
       "3 397000.000  \n",
       "4 176334.000  "
      ]
     },
     "execution_count": 13,
     "metadata": {},
     "output_type": "execute_result"
    }
   ],
   "source": [
    "df = df.rename(columns={\"ticker\":\"종목명\"})\n",
    "df.head()"
   ]
  },
  {
   "cell_type": "code",
   "execution_count": null,
   "metadata": {},
   "outputs": [],
   "source": []
  }
 ],
 "metadata": {
  "interpreter": {
   "hash": "082e9a3bcad0a290d0001e938aa60b99250c6c2ef33a923c00b70f9826caf4b7"
  },
  "kernelspec": {
   "display_name": "Python 3.8.5 64-bit",
   "language": "python",
   "name": "python3"
  },
  "language_info": {
   "codemirror_mode": {
    "name": "ipython",
    "version": 3
   },
   "file_extension": ".py",
   "mimetype": "text/x-python",
   "name": "python",
   "nbconvert_exporter": "python",
   "pygments_lexer": "ipython3",
   "version": "3.8.5"
  },
  "orig_nbformat": 4
 },
 "nbformat": 4,
 "nbformat_minor": 2
}
