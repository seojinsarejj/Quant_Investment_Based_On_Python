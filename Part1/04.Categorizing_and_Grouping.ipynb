{
 "cells": [
  {
   "cell_type": "markdown",
   "metadata": {},
   "source": [
    "# Load data using `read_csv`"
   ]
  },
  {
   "cell_type": "code",
   "execution_count": 13,
   "metadata": {},
   "outputs": [],
   "source": [
    "import numpy as np\n",
    "import pandas as pd\n",
    "\n",
    "from IPython.core.interactiveshell import InteractiveShell\n",
    "InteractiveShell.ast_node_interactivity = \"all\"\n",
    "\n",
    "pd.set_option('display.float_format', lambda x : '%.3f' % x)\n",
    "pd.set_option('max_columns', None)"
   ]
  },
  {
   "cell_type": "code",
   "execution_count": 14,
   "metadata": {},
   "outputs": [],
   "source": [
    "df = pd.read_csv(\"../inflearn_pandas_part1_material/my_data/naver_finance/2016_12.csv\")"
   ]
  },
  {
   "cell_type": "code",
   "execution_count": 15,
   "metadata": {},
   "outputs": [
    {
     "data": {
      "text/html": [
       "<div>\n",
       "<style scoped>\n",
       "    .dataframe tbody tr th:only-of-type {\n",
       "        vertical-align: middle;\n",
       "    }\n",
       "\n",
       "    .dataframe tbody tr th {\n",
       "        vertical-align: top;\n",
       "    }\n",
       "\n",
       "    .dataframe thead th {\n",
       "        text-align: right;\n",
       "    }\n",
       "</style>\n",
       "<table border=\"1\" class=\"dataframe\">\n",
       "  <thead>\n",
       "    <tr style=\"text-align: right;\">\n",
       "      <th></th>\n",
       "      <th>ticker</th>\n",
       "      <th>매출액(억원)</th>\n",
       "      <th>영업이익률(%)</th>\n",
       "      <th>순이익률(%)</th>\n",
       "      <th>당기순이익(억원)</th>\n",
       "      <th>ROE(%)</th>\n",
       "      <th>ROA(%)</th>\n",
       "      <th>ROIC(%)</th>\n",
       "      <th>EPS(원)</th>\n",
       "      <th>BPS(원)</th>\n",
       "      <th>SPS(원)</th>\n",
       "      <th>PER(배)</th>\n",
       "      <th>PBR(배)</th>\n",
       "      <th>PSR(배)</th>\n",
       "      <th>price</th>\n",
       "      <th>price2</th>\n",
       "    </tr>\n",
       "  </thead>\n",
       "  <tbody>\n",
       "    <tr>\n",
       "      <th>0</th>\n",
       "      <td>AK홀딩스</td>\n",
       "      <td>29218.310</td>\n",
       "      <td>7.313</td>\n",
       "      <td>4.563</td>\n",
       "      <td>1333.223</td>\n",
       "      <td>12.193</td>\n",
       "      <td>5.091</td>\n",
       "      <td>15.515</td>\n",
       "      <td>5436.413</td>\n",
       "      <td>48112.402</td>\n",
       "      <td>220556.160</td>\n",
       "      <td>10.301</td>\n",
       "      <td>1.164</td>\n",
       "      <td>0.254</td>\n",
       "      <td>56000.000</td>\n",
       "      <td>68500.000</td>\n",
       "    </tr>\n",
       "    <tr>\n",
       "      <th>1</th>\n",
       "      <td>BGF</td>\n",
       "      <td>860.773</td>\n",
       "      <td>9.315</td>\n",
       "      <td>214.481</td>\n",
       "      <td>1846.192</td>\n",
       "      <td>21.624</td>\n",
       "      <td>10.433</td>\n",
       "      <td>8.015</td>\n",
       "      <td>3703.577</td>\n",
       "      <td>18648.623</td>\n",
       "      <td>1737.263</td>\n",
       "      <td>22.757</td>\n",
       "      <td>4.519</td>\n",
       "      <td>48.514</td>\n",
       "      <td>42140.000</td>\n",
       "      <td>15250.000</td>\n",
       "    </tr>\n",
       "    <tr>\n",
       "      <th>2</th>\n",
       "      <td>BNK금융지주</td>\n",
       "      <td>49126.760</td>\n",
       "      <td>14.499</td>\n",
       "      <td>10.546</td>\n",
       "      <td>5181.144</td>\n",
       "      <td>7.919</td>\n",
       "      <td>0.564</td>\n",
       "      <td>NaN</td>\n",
       "      <td>1568.237</td>\n",
       "      <td>20810.660</td>\n",
       "      <td>15358.993</td>\n",
       "      <td>5.535</td>\n",
       "      <td>0.417</td>\n",
       "      <td>0.565</td>\n",
       "      <td>8680.000</td>\n",
       "      <td>9420.000</td>\n",
       "    </tr>\n",
       "    <tr>\n",
       "      <th>3</th>\n",
       "      <td>BYC</td>\n",
       "      <td>2118.576</td>\n",
       "      <td>7.625</td>\n",
       "      <td>8.281</td>\n",
       "      <td>175.433</td>\n",
       "      <td>4.543</td>\n",
       "      <td>2.463</td>\n",
       "      <td>10.748</td>\n",
       "      <td>20872.312</td>\n",
       "      <td>471887.000</td>\n",
       "      <td>252211.450</td>\n",
       "      <td>19.020</td>\n",
       "      <td>0.841</td>\n",
       "      <td>1.574</td>\n",
       "      <td>397000.000</td>\n",
       "      <td>306000.000</td>\n",
       "    </tr>\n",
       "    <tr>\n",
       "      <th>4</th>\n",
       "      <td>CJ</td>\n",
       "      <td>239541.970</td>\n",
       "      <td>5.230</td>\n",
       "      <td>2.379</td>\n",
       "      <td>5698.234</td>\n",
       "      <td>6.080</td>\n",
       "      <td>2.253</td>\n",
       "      <td>5.158</td>\n",
       "      <td>6257.152</td>\n",
       "      <td>114276.080</td>\n",
       "      <td>672045.900</td>\n",
       "      <td>28.181</td>\n",
       "      <td>1.543</td>\n",
       "      <td>0.262</td>\n",
       "      <td>176334.000</td>\n",
       "      <td>171148.000</td>\n",
       "    </tr>\n",
       "  </tbody>\n",
       "</table>\n",
       "</div>"
      ],
      "text/plain": [
       "    ticker    매출액(억원)  영업이익률(%)  순이익률(%)  당기순이익(억원)  ROE(%)  ROA(%)  ROIC(%)  \\\n",
       "0    AK홀딩스  29218.310     7.313    4.563   1333.223  12.193   5.091   15.515   \n",
       "1      BGF    860.773     9.315  214.481   1846.192  21.624  10.433    8.015   \n",
       "2  BNK금융지주  49126.760    14.499   10.546   5181.144   7.919   0.564      NaN   \n",
       "3      BYC   2118.576     7.625    8.281    175.433   4.543   2.463   10.748   \n",
       "4       CJ 239541.970     5.230    2.379   5698.234   6.080   2.253    5.158   \n",
       "\n",
       "     EPS(원)     BPS(원)     SPS(원)  PER(배)  PBR(배)  PSR(배)      price  \\\n",
       "0  5436.413  48112.402 220556.160  10.301   1.164   0.254  56000.000   \n",
       "1  3703.577  18648.623   1737.263  22.757   4.519  48.514  42140.000   \n",
       "2  1568.237  20810.660  15358.993   5.535   0.417   0.565   8680.000   \n",
       "3 20872.312 471887.000 252211.450  19.020   0.841   1.574 397000.000   \n",
       "4  6257.152 114276.080 672045.900  28.181   1.543   0.262 176334.000   \n",
       "\n",
       "      price2  \n",
       "0  68500.000  \n",
       "1  15250.000  \n",
       "2   9420.000  \n",
       "3 306000.000  \n",
       "4 171148.000  "
      ]
     },
     "execution_count": 15,
     "metadata": {},
     "output_type": "execute_result"
    }
   ],
   "source": [
    "df.head()"
   ]
  },
  {
   "cell_type": "markdown",
   "metadata": {},
   "source": [
    "### 수익률 구하기 (16.12 ~ 17.12)"
   ]
  },
  {
   "cell_type": "code",
   "execution_count": 16,
   "metadata": {},
   "outputs": [],
   "source": [
    "df['rtn'] = df['price2'] / df['price'] - 1"
   ]
  },
  {
   "cell_type": "markdown",
   "metadata": {},
   "source": [
    "## 2. Give group-number(or score) according to PER\n",
    "\n",
    "### non-equal length partition"
   ]
  },
  {
   "cell_type": "markdown",
   "metadata": {},
   "source": [
    "#### boolean indexing & loc 사용\n",
    "\n",
    "- 뒤에 Grouping by continuous variables section에서는 더 쉽게 가능"
   ]
  },
  {
   "cell_type": "code",
   "execution_count": 22,
   "metadata": {},
   "outputs": [],
   "source": [
    "bound1 = df['PER(배)'] >= 10\n",
    "bound2 = (5 <= df['PER(배)']) & (df['PER(배)'] < 10)\n",
    "bound3 = (0 <= df['PER(배)']) & (df['PER(배)'] < 5) \n",
    "bound4 = df['PER(배)'] < 0"
   ]
  },
  {
   "cell_type": "code",
   "execution_count": 23,
   "metadata": {},
   "outputs": [],
   "source": [
    "df.loc[bound1, 'PER_Score'] = 1\n",
    "df.loc[bound2, 'PER_Score'] = 2\n",
    "df.loc[bound3, 'PER_Score'] = 3\n",
    "df.loc[bound4, 'PER_Score'] = -1"
   ]
  },
  {
   "cell_type": "code",
   "execution_count": 24,
   "metadata": {},
   "outputs": [
    {
     "data": {
      "text/plain": [
       "0   1.000\n",
       "1   1.000\n",
       "2   2.000\n",
       "3   1.000\n",
       "4   1.000\n",
       "Name: PER_Score, dtype: float64"
      ]
     },
     "execution_count": 24,
     "metadata": {},
     "output_type": "execute_result"
    }
   ],
   "source": [
    "df['PER_Score'].head()"
   ]
  },
  {
   "cell_type": "code",
   "execution_count": 25,
   "metadata": {},
   "outputs": [
    {
     "data": {
      "text/plain": [
       "4"
      ]
     },
     "execution_count": 25,
     "metadata": {},
     "output_type": "execute_result"
    }
   ],
   "source": [
    "df['PER_Score'].nunique()"
   ]
  },
  {
   "cell_type": "code",
   "execution_count": 26,
   "metadata": {},
   "outputs": [
    {
     "data": {
      "text/plain": [
       "1.000     378\n",
       "2.000     148\n",
       "-1.000    120\n",
       "3.000      23\n",
       "Name: PER_Score, dtype: int64"
      ]
     },
     "execution_count": 26,
     "metadata": {},
     "output_type": "execute_result"
    }
   ],
   "source": [
    "df['PER_Score'].value_counts()"
   ]
  },
  {
   "cell_type": "code",
   "execution_count": 27,
   "metadata": {},
   "outputs": [
    {
     "data": {
      "text/plain": [
       "12"
      ]
     },
     "execution_count": 27,
     "metadata": {},
     "output_type": "execute_result"
    }
   ],
   "source": [
    "df['PER_Score'].isna().sum()"
   ]
  },
  {
   "cell_type": "markdown",
   "metadata": {},
   "source": [
    "### boolean series의 연산 특성 사용"
   ]
  },
  {
   "cell_type": "code",
   "execution_count": 28,
   "metadata": {},
   "outputs": [],
   "source": [
    "df.loc[:, \"PER_Score1\"] = (bound1 * 1) + (bound2 * 2) + (bound3 * 3) + (bound4 * -1)"
   ]
  },
  {
   "cell_type": "code",
   "execution_count": 29,
   "metadata": {},
   "outputs": [
    {
     "data": {
      "text/plain": [
       " 1    378\n",
       " 2    148\n",
       "-1    120\n",
       " 3     23\n",
       " 0     12\n",
       "Name: PER_Score1, dtype: int64"
      ]
     },
     "execution_count": 29,
     "metadata": {},
     "output_type": "execute_result"
    }
   ],
   "source": [
    "df['PER_Score1'].value_counts()"
   ]
  },
  {
   "cell_type": "code",
   "execution_count": 31,
   "metadata": {},
   "outputs": [
    {
     "data": {
      "text/plain": [
       "0    1\n",
       "1    1\n",
       "2    2\n",
       "3    1\n",
       "4    1\n",
       "Name: PER_Score1, dtype: int64"
      ]
     },
     "execution_count": 31,
     "metadata": {},
     "output_type": "execute_result"
    }
   ],
   "source": [
    "df['PER_Score1'].head()"
   ]
  },
  {
   "cell_type": "markdown",
   "metadata": {},
   "source": [
    "### 위의 두 score series는 서로 같을까?"
   ]
  },
  {
   "cell_type": "code",
   "execution_count": 32,
   "metadata": {},
   "outputs": [
    {
     "data": {
      "text/plain": [
       "False"
      ]
     },
     "execution_count": 32,
     "metadata": {},
     "output_type": "execute_result"
    }
   ],
   "source": [
    "df['PER_Score'].equals(df['PER_Score1'])"
   ]
  },
  {
   "cell_type": "code",
   "execution_count": 33,
   "metadata": {},
   "outputs": [
    {
     "data": {
      "text/plain": [
       "dtype('float64')"
      ]
     },
     "execution_count": 33,
     "metadata": {},
     "output_type": "execute_result"
    },
    {
     "data": {
      "text/plain": [
       "dtype('int64')"
      ]
     },
     "execution_count": 33,
     "metadata": {},
     "output_type": "execute_result"
    }
   ],
   "source": [
    "df['PER_Score'].dtypes\n",
    "df['PER_Score1'].dtypes"
   ]
  },
  {
   "cell_type": "markdown",
   "metadata": {},
   "source": [
    "### 2.1.4. `cut()`"
   ]
  },
  {
   "cell_type": "code",
   "execution_count": 37,
   "metadata": {},
   "outputs": [
    {
     "data": {
      "text/plain": [
       "0    (10.0, inf]\n",
       "1    (10.0, inf]\n",
       "2    (5.0, 10.0]\n",
       "3    (10.0, inf]\n",
       "4    (10.0, inf]\n",
       "Name: PER(배), dtype: category\n",
       "Categories (4, interval[float64]): [(-inf, 0.0] < (0.0, 5.0] < (5.0, 10.0] < (10.0, inf]]"
      ]
     },
     "execution_count": 37,
     "metadata": {},
     "output_type": "execute_result"
    }
   ],
   "source": [
    "per_cuts = pd.cut(\n",
    "    df['PER(배)'],\n",
    "    [-np.inf, 0,5,10,np.inf],\n",
    ")\n",
    "\n",
    "per_cuts.head()"
   ]
  },
  {
   "cell_type": "code",
   "execution_count": 39,
   "metadata": {},
   "outputs": [
    {
     "data": {
      "text/plain": [
       "12"
      ]
     },
     "execution_count": 39,
     "metadata": {},
     "output_type": "execute_result"
    }
   ],
   "source": [
    "per_cuts.isna().sum()"
   ]
  },
  {
   "cell_type": "code",
   "execution_count": 40,
   "metadata": {},
   "outputs": [
    {
     "data": {
      "text/plain": [
       "(10.0, inf]    378\n",
       "(5.0, 10.0]    148\n",
       "(-inf, 0.0]    120\n",
       "(0.0, 5.0]      23\n",
       "Name: PER(배), dtype: int64"
      ]
     },
     "execution_count": 40,
     "metadata": {},
     "output_type": "execute_result"
    }
   ],
   "source": [
    "per_cuts.value_counts()"
   ]
  },
  {
   "cell_type": "code",
   "execution_count": 44,
   "metadata": {},
   "outputs": [
    {
     "data": {
      "text/plain": [
       "0     보통주\n",
       "1    고평가주\n",
       "2    저평가주\n",
       "3     보통주\n",
       "4    고평가주\n",
       "Name: PER(배), dtype: category\n",
       "Categories (3, object): ['저평가주' < '보통주' < '고평가주']"
      ]
     },
     "execution_count": 44,
     "metadata": {},
     "output_type": "execute_result"
    }
   ],
   "source": [
    "bins = [-np.inf, 10,20,np.inf]\n",
    "# 1. -np.inf ~ 10\n",
    "# 2. 10 ~ 20\n",
    "# 3. 20 ~ np.inf\n",
    "labels = [\"저평가주\",\"보통주\",\"고평가주\"]\n",
    "per_cuts2 = pd.cut(\n",
    "    df['PER(배)'],\n",
    "    bins=bins,\n",
    "    labels=labels\n",
    ")\n",
    "per_cuts2.head()"
   ]
  },
  {
   "cell_type": "markdown",
   "metadata": {},
   "source": [
    "## 3. SAME number of members in each group"
   ]
  },
  {
   "cell_type": "markdown",
   "metadata": {},
   "source": [
    "### qcut"
   ]
  },
  {
   "cell_type": "code",
   "execution_count": 46,
   "metadata": {},
   "outputs": [],
   "source": [
    "df.loc[:, 'PER_Score2'] = pd.qcut(df['PER(배)'], 3)"
   ]
  },
  {
   "cell_type": "code",
   "execution_count": 48,
   "metadata": {},
   "outputs": [
    {
     "data": {
      "text/plain": [
       "(-27857.497, 7.666]    223\n",
       "(7.666, 16.495]        223\n",
       "(16.495, 7056.129]     223\n",
       "Name: PER_Score2, dtype: int64"
      ]
     },
     "execution_count": 48,
     "metadata": {},
     "output_type": "execute_result"
    }
   ],
   "source": [
    "df['PER_Score2'].value_counts()"
   ]
  },
  {
   "cell_type": "code",
   "execution_count": 52,
   "metadata": {},
   "outputs": [],
   "source": [
    "df.loc[:, 'PER_Score2'] = pd.qcut(df['PER(배)'], 10, labels=range(1,11))"
   ]
  },
  {
   "cell_type": "code",
   "execution_count": 53,
   "metadata": {},
   "outputs": [
    {
     "data": {
      "text/plain": [
       "1     67\n",
       "2     67\n",
       "3     67\n",
       "4     67\n",
       "5     67\n",
       "7     67\n",
       "8     67\n",
       "9     67\n",
       "10    67\n",
       "6     66\n",
       "Name: PER_Score2, dtype: int64"
      ]
     },
     "execution_count": 53,
     "metadata": {},
     "output_type": "execute_result"
    }
   ],
   "source": [
    "df['PER_Score2'].value_counts()"
   ]
  },
  {
   "cell_type": "code",
   "execution_count": 54,
   "metadata": {},
   "outputs": [
    {
     "data": {
      "text/plain": [
       "True"
      ]
     },
     "execution_count": 54,
     "metadata": {},
     "output_type": "execute_result"
    }
   ],
   "source": [
    "df['PER_Score2'].hasnans"
   ]
  },
  {
   "cell_type": "code",
   "execution_count": 55,
   "metadata": {},
   "outputs": [
    {
     "data": {
      "text/plain": [
       "12"
      ]
     },
     "execution_count": 55,
     "metadata": {},
     "output_type": "execute_result"
    }
   ],
   "source": [
    "df['PER_Score2'].isna().sum()"
   ]
  },
  {
   "cell_type": "code",
   "execution_count": 58,
   "metadata": {},
   "outputs": [],
   "source": [
    "df = df.dropna(subset=['PER_Score2'])"
   ]
  },
  {
   "cell_type": "code",
   "execution_count": 59,
   "metadata": {},
   "outputs": [
    {
     "data": {
      "text/plain": [
       "0"
      ]
     },
     "execution_count": 59,
     "metadata": {},
     "output_type": "execute_result"
    }
   ],
   "source": [
    "df['PER_Score2'].isna().sum()"
   ]
  },
  {
   "cell_type": "markdown",
   "metadata": {},
   "source": [
    "## 4. Split - Apply - Combine"
   ]
  },
  {
   "cell_type": "code",
   "execution_count": 61,
   "metadata": {},
   "outputs": [
    {
     "data": {
      "text/plain": [
       "(681, 16)"
      ]
     },
     "execution_count": 61,
     "metadata": {},
     "output_type": "execute_result"
    }
   ],
   "source": [
    "df = pd.read_csv(\"../inflearn_pandas_part1_material/my_data/naver_finance/2016_12.csv\")\n",
    "df.shape"
   ]
  },
  {
   "cell_type": "code",
   "execution_count": 62,
   "metadata": {},
   "outputs": [
    {
     "data": {
      "text/plain": [
       "(609, 16)"
      ]
     },
     "execution_count": 62,
     "metadata": {},
     "output_type": "execute_result"
    }
   ],
   "source": [
    "df = df.dropna()\n",
    "df.shape"
   ]
  },
  {
   "cell_type": "code",
   "execution_count": 63,
   "metadata": {},
   "outputs": [
    {
     "data": {
      "text/html": [
       "<div>\n",
       "<style scoped>\n",
       "    .dataframe tbody tr th:only-of-type {\n",
       "        vertical-align: middle;\n",
       "    }\n",
       "\n",
       "    .dataframe tbody tr th {\n",
       "        vertical-align: top;\n",
       "    }\n",
       "\n",
       "    .dataframe thead th {\n",
       "        text-align: right;\n",
       "    }\n",
       "</style>\n",
       "<table border=\"1\" class=\"dataframe\">\n",
       "  <thead>\n",
       "    <tr style=\"text-align: right;\">\n",
       "      <th></th>\n",
       "      <th>ticker</th>\n",
       "      <th>매출액(억원)</th>\n",
       "      <th>영업이익률(%)</th>\n",
       "      <th>순이익률(%)</th>\n",
       "      <th>당기순이익(억원)</th>\n",
       "      <th>ROE(%)</th>\n",
       "      <th>ROA(%)</th>\n",
       "      <th>ROIC(%)</th>\n",
       "      <th>EPS(원)</th>\n",
       "      <th>BPS(원)</th>\n",
       "      <th>SPS(원)</th>\n",
       "      <th>PER(배)</th>\n",
       "      <th>PBR(배)</th>\n",
       "      <th>PSR(배)</th>\n",
       "      <th>price</th>\n",
       "      <th>price2</th>\n",
       "    </tr>\n",
       "  </thead>\n",
       "  <tbody>\n",
       "    <tr>\n",
       "      <th>0</th>\n",
       "      <td>AK홀딩스</td>\n",
       "      <td>29218.310</td>\n",
       "      <td>7.313</td>\n",
       "      <td>4.563</td>\n",
       "      <td>1333.223</td>\n",
       "      <td>12.193</td>\n",
       "      <td>5.091</td>\n",
       "      <td>15.515</td>\n",
       "      <td>5436.413</td>\n",
       "      <td>48112.402</td>\n",
       "      <td>220556.160</td>\n",
       "      <td>10.301</td>\n",
       "      <td>1.164</td>\n",
       "      <td>0.254</td>\n",
       "      <td>56000.000</td>\n",
       "      <td>68500.000</td>\n",
       "    </tr>\n",
       "    <tr>\n",
       "      <th>1</th>\n",
       "      <td>BGF</td>\n",
       "      <td>860.773</td>\n",
       "      <td>9.315</td>\n",
       "      <td>214.481</td>\n",
       "      <td>1846.192</td>\n",
       "      <td>21.624</td>\n",
       "      <td>10.433</td>\n",
       "      <td>8.015</td>\n",
       "      <td>3703.577</td>\n",
       "      <td>18648.623</td>\n",
       "      <td>1737.263</td>\n",
       "      <td>22.757</td>\n",
       "      <td>4.519</td>\n",
       "      <td>48.514</td>\n",
       "      <td>42140.000</td>\n",
       "      <td>15250.000</td>\n",
       "    </tr>\n",
       "    <tr>\n",
       "      <th>3</th>\n",
       "      <td>BYC</td>\n",
       "      <td>2118.576</td>\n",
       "      <td>7.625</td>\n",
       "      <td>8.281</td>\n",
       "      <td>175.433</td>\n",
       "      <td>4.543</td>\n",
       "      <td>2.463</td>\n",
       "      <td>10.748</td>\n",
       "      <td>20872.312</td>\n",
       "      <td>471887.000</td>\n",
       "      <td>252211.450</td>\n",
       "      <td>19.020</td>\n",
       "      <td>0.841</td>\n",
       "      <td>1.574</td>\n",
       "      <td>397000.000</td>\n",
       "      <td>306000.000</td>\n",
       "    </tr>\n",
       "    <tr>\n",
       "      <th>4</th>\n",
       "      <td>CJ</td>\n",
       "      <td>239541.970</td>\n",
       "      <td>5.230</td>\n",
       "      <td>2.379</td>\n",
       "      <td>5698.234</td>\n",
       "      <td>6.080</td>\n",
       "      <td>2.253</td>\n",
       "      <td>5.158</td>\n",
       "      <td>6257.152</td>\n",
       "      <td>114276.080</td>\n",
       "      <td>672045.900</td>\n",
       "      <td>28.181</td>\n",
       "      <td>1.543</td>\n",
       "      <td>0.262</td>\n",
       "      <td>176334.000</td>\n",
       "      <td>171148.000</td>\n",
       "    </tr>\n",
       "    <tr>\n",
       "      <th>5</th>\n",
       "      <td>CJ CGV</td>\n",
       "      <td>14322.454</td>\n",
       "      <td>4.911</td>\n",
       "      <td>0.393</td>\n",
       "      <td>56.217</td>\n",
       "      <td>3.105</td>\n",
       "      <td>0.284</td>\n",
       "      <td>2.919</td>\n",
       "      <td>583.051</td>\n",
       "      <td>17654.154</td>\n",
       "      <td>67682.260</td>\n",
       "      <td>120.744</td>\n",
       "      <td>3.988</td>\n",
       "      <td>1.040</td>\n",
       "      <td>70400.000</td>\n",
       "      <td>74200.000</td>\n",
       "    </tr>\n",
       "  </tbody>\n",
       "</table>\n",
       "</div>"
      ],
      "text/plain": [
       "   ticker    매출액(억원)  영업이익률(%)  순이익률(%)  당기순이익(억원)  ROE(%)  ROA(%)  ROIC(%)  \\\n",
       "0   AK홀딩스  29218.310     7.313    4.563   1333.223  12.193   5.091   15.515   \n",
       "1     BGF    860.773     9.315  214.481   1846.192  21.624  10.433    8.015   \n",
       "3     BYC   2118.576     7.625    8.281    175.433   4.543   2.463   10.748   \n",
       "4      CJ 239541.970     5.230    2.379   5698.234   6.080   2.253    5.158   \n",
       "5  CJ CGV  14322.454     4.911    0.393     56.217   3.105   0.284    2.919   \n",
       "\n",
       "     EPS(원)     BPS(원)     SPS(원)  PER(배)  PBR(배)  PSR(배)      price  \\\n",
       "0  5436.413  48112.402 220556.160  10.301   1.164   0.254  56000.000   \n",
       "1  3703.577  18648.623   1737.263  22.757   4.519  48.514  42140.000   \n",
       "3 20872.312 471887.000 252211.450  19.020   0.841   1.574 397000.000   \n",
       "4  6257.152 114276.080 672045.900  28.181   1.543   0.262 176334.000   \n",
       "5   583.051  17654.154  67682.260 120.744   3.988   1.040  70400.000   \n",
       "\n",
       "      price2  \n",
       "0  68500.000  \n",
       "1  15250.000  \n",
       "3 306000.000  \n",
       "4 171148.000  \n",
       "5  74200.000  "
      ]
     },
     "execution_count": 63,
     "metadata": {},
     "output_type": "execute_result"
    }
   ],
   "source": [
    "g_df = df.copy()\n",
    "g_df.head()"
   ]
  },
  {
   "cell_type": "markdown",
   "metadata": {},
   "source": [
    "## 4.1. Some score assignment"
   ]
  },
  {
   "cell_type": "code",
   "execution_count": 64,
   "metadata": {},
   "outputs": [],
   "source": [
    "g_df['rtn'] = g_df['price2'] / g_df['price'] -1 "
   ]
  },
  {
   "cell_type": "code",
   "execution_count": 65,
   "metadata": {},
   "outputs": [],
   "source": [
    "g_df.loc[:, 'PER_score'] = pd.qcut(g_df['PER(배)'],10,labels=range(1,11))\n",
    "g_df.loc[:, 'PBR_score'] = pd.qcut(g_df['PBR(배)'], 10, labels=range(1,11))"
   ]
  },
  {
   "cell_type": "code",
   "execution_count": 66,
   "metadata": {},
   "outputs": [],
   "source": [
    "g_df.set_index('ticker', inplace=True)"
   ]
  },
  {
   "cell_type": "code",
   "execution_count": 67,
   "metadata": {},
   "outputs": [
    {
     "data": {
      "text/html": [
       "<div>\n",
       "<style scoped>\n",
       "    .dataframe tbody tr th:only-of-type {\n",
       "        vertical-align: middle;\n",
       "    }\n",
       "\n",
       "    .dataframe tbody tr th {\n",
       "        vertical-align: top;\n",
       "    }\n",
       "\n",
       "    .dataframe thead th {\n",
       "        text-align: right;\n",
       "    }\n",
       "</style>\n",
       "<table border=\"1\" class=\"dataframe\">\n",
       "  <thead>\n",
       "    <tr style=\"text-align: right;\">\n",
       "      <th></th>\n",
       "      <th>매출액(억원)</th>\n",
       "      <th>영업이익률(%)</th>\n",
       "      <th>순이익률(%)</th>\n",
       "      <th>당기순이익(억원)</th>\n",
       "      <th>ROE(%)</th>\n",
       "      <th>ROA(%)</th>\n",
       "      <th>ROIC(%)</th>\n",
       "      <th>EPS(원)</th>\n",
       "      <th>BPS(원)</th>\n",
       "      <th>SPS(원)</th>\n",
       "      <th>PER(배)</th>\n",
       "      <th>PBR(배)</th>\n",
       "      <th>PSR(배)</th>\n",
       "      <th>price</th>\n",
       "      <th>price2</th>\n",
       "      <th>rtn</th>\n",
       "      <th>PER_score</th>\n",
       "      <th>PBR_score</th>\n",
       "    </tr>\n",
       "    <tr>\n",
       "      <th>ticker</th>\n",
       "      <th></th>\n",
       "      <th></th>\n",
       "      <th></th>\n",
       "      <th></th>\n",
       "      <th></th>\n",
       "      <th></th>\n",
       "      <th></th>\n",
       "      <th></th>\n",
       "      <th></th>\n",
       "      <th></th>\n",
       "      <th></th>\n",
       "      <th></th>\n",
       "      <th></th>\n",
       "      <th></th>\n",
       "      <th></th>\n",
       "      <th></th>\n",
       "      <th></th>\n",
       "      <th></th>\n",
       "    </tr>\n",
       "  </thead>\n",
       "  <tbody>\n",
       "    <tr>\n",
       "      <th>AK홀딩스</th>\n",
       "      <td>29218.310</td>\n",
       "      <td>7.313</td>\n",
       "      <td>4.563</td>\n",
       "      <td>1333.223</td>\n",
       "      <td>12.193</td>\n",
       "      <td>5.091</td>\n",
       "      <td>15.515</td>\n",
       "      <td>5436.413</td>\n",
       "      <td>48112.402</td>\n",
       "      <td>220556.160</td>\n",
       "      <td>10.301</td>\n",
       "      <td>1.164</td>\n",
       "      <td>0.254</td>\n",
       "      <td>56000.000</td>\n",
       "      <td>68500.000</td>\n",
       "      <td>0.223</td>\n",
       "      <td>5</td>\n",
       "      <td>7</td>\n",
       "    </tr>\n",
       "    <tr>\n",
       "      <th>BGF</th>\n",
       "      <td>860.773</td>\n",
       "      <td>9.315</td>\n",
       "      <td>214.481</td>\n",
       "      <td>1846.192</td>\n",
       "      <td>21.624</td>\n",
       "      <td>10.433</td>\n",
       "      <td>8.015</td>\n",
       "      <td>3703.577</td>\n",
       "      <td>18648.623</td>\n",
       "      <td>1737.263</td>\n",
       "      <td>22.757</td>\n",
       "      <td>4.519</td>\n",
       "      <td>48.514</td>\n",
       "      <td>42140.000</td>\n",
       "      <td>15250.000</td>\n",
       "      <td>-0.638</td>\n",
       "      <td>8</td>\n",
       "      <td>10</td>\n",
       "    </tr>\n",
       "    <tr>\n",
       "      <th>BYC</th>\n",
       "      <td>2118.576</td>\n",
       "      <td>7.625</td>\n",
       "      <td>8.281</td>\n",
       "      <td>175.433</td>\n",
       "      <td>4.543</td>\n",
       "      <td>2.463</td>\n",
       "      <td>10.748</td>\n",
       "      <td>20872.312</td>\n",
       "      <td>471887.000</td>\n",
       "      <td>252211.450</td>\n",
       "      <td>19.020</td>\n",
       "      <td>0.841</td>\n",
       "      <td>1.574</td>\n",
       "      <td>397000.000</td>\n",
       "      <td>306000.000</td>\n",
       "      <td>-0.229</td>\n",
       "      <td>8</td>\n",
       "      <td>5</td>\n",
       "    </tr>\n",
       "    <tr>\n",
       "      <th>CJ</th>\n",
       "      <td>239541.970</td>\n",
       "      <td>5.230</td>\n",
       "      <td>2.379</td>\n",
       "      <td>5698.234</td>\n",
       "      <td>6.080</td>\n",
       "      <td>2.253</td>\n",
       "      <td>5.158</td>\n",
       "      <td>6257.152</td>\n",
       "      <td>114276.080</td>\n",
       "      <td>672045.900</td>\n",
       "      <td>28.181</td>\n",
       "      <td>1.543</td>\n",
       "      <td>0.262</td>\n",
       "      <td>176334.000</td>\n",
       "      <td>171148.000</td>\n",
       "      <td>-0.029</td>\n",
       "      <td>9</td>\n",
       "      <td>8</td>\n",
       "    </tr>\n",
       "    <tr>\n",
       "      <th>CJ CGV</th>\n",
       "      <td>14322.454</td>\n",
       "      <td>4.911</td>\n",
       "      <td>0.393</td>\n",
       "      <td>56.217</td>\n",
       "      <td>3.105</td>\n",
       "      <td>0.284</td>\n",
       "      <td>2.919</td>\n",
       "      <td>583.051</td>\n",
       "      <td>17654.154</td>\n",
       "      <td>67682.260</td>\n",
       "      <td>120.744</td>\n",
       "      <td>3.988</td>\n",
       "      <td>1.040</td>\n",
       "      <td>70400.000</td>\n",
       "      <td>74200.000</td>\n",
       "      <td>0.054</td>\n",
       "      <td>10</td>\n",
       "      <td>10</td>\n",
       "    </tr>\n",
       "  </tbody>\n",
       "</table>\n",
       "</div>"
      ],
      "text/plain": [
       "          매출액(억원)  영업이익률(%)  순이익률(%)  당기순이익(억원)  ROE(%)  ROA(%)  ROIC(%)  \\\n",
       "ticker                                                                     \n",
       "AK홀딩스   29218.310     7.313    4.563   1333.223  12.193   5.091   15.515   \n",
       "BGF       860.773     9.315  214.481   1846.192  21.624  10.433    8.015   \n",
       "BYC      2118.576     7.625    8.281    175.433   4.543   2.463   10.748   \n",
       "CJ     239541.970     5.230    2.379   5698.234   6.080   2.253    5.158   \n",
       "CJ CGV  14322.454     4.911    0.393     56.217   3.105   0.284    2.919   \n",
       "\n",
       "          EPS(원)     BPS(원)     SPS(원)  PER(배)  PBR(배)  PSR(배)      price  \\\n",
       "ticker                                                                      \n",
       "AK홀딩스   5436.413  48112.402 220556.160  10.301   1.164   0.254  56000.000   \n",
       "BGF     3703.577  18648.623   1737.263  22.757   4.519  48.514  42140.000   \n",
       "BYC    20872.312 471887.000 252211.450  19.020   0.841   1.574 397000.000   \n",
       "CJ      6257.152 114276.080 672045.900  28.181   1.543   0.262 176334.000   \n",
       "CJ CGV   583.051  17654.154  67682.260 120.744   3.988   1.040  70400.000   \n",
       "\n",
       "           price2    rtn PER_score PBR_score  \n",
       "ticker                                        \n",
       "AK홀딩스   68500.000  0.223         5         7  \n",
       "BGF     15250.000 -0.638         8        10  \n",
       "BYC    306000.000 -0.229         8         5  \n",
       "CJ     171148.000 -0.029         9         8  \n",
       "CJ CGV  74200.000  0.054        10        10  "
      ]
     },
     "execution_count": 67,
     "metadata": {},
     "output_type": "execute_result"
    }
   ],
   "source": [
    "g_df.head()"
   ]
  },
  {
   "cell_type": "markdown",
   "metadata": {},
   "source": [
    "## 4.2. groupby() & aggregation"
   ]
  },
  {
   "cell_type": "markdown",
   "metadata": {},
   "source": [
    "- `groupby()`\n",
    "  - 실제로 grouping까지는 하지 않고, grouping이 가능한지 validation만 진행(preparation)\n",
    "- `Aggregation`\n",
    "  - 2가지 요소로 구성\n",
    "    - appregating columns\n",
    "    - aggregatin functions\n",
    "      - e.g. `sum, min, max, mean, count, variacne, std` etc"
   ]
  },
  {
   "cell_type": "markdown",
   "metadata": {},
   "source": [
    "- 결국 3가지 요소만 충족시키면 됨\n",
    "  - Grouping columns (categorial data type)\n",
    "  - Aggregating columns\n",
    "  - Aggregating functions"
   ]
  },
  {
   "cell_type": "markdown",
   "metadata": {},
   "source": [
    "### 4.2.1. Examining the groupby object"
   ]
  },
  {
   "cell_type": "code",
   "execution_count": 68,
   "metadata": {},
   "outputs": [
    {
     "data": {
      "text/plain": [
       "<pandas.core.groupby.generic.DataFrameGroupBy object at 0x7fe428c601c0>"
      ]
     },
     "execution_count": 68,
     "metadata": {},
     "output_type": "execute_result"
    }
   ],
   "source": [
    "g_df.groupby('PER_score')"
   ]
  },
  {
   "cell_type": "code",
   "execution_count": 74,
   "metadata": {},
   "outputs": [
    {
     "data": {
      "text/plain": [
       "<pandas.core.groupby.generic.DataFrameGroupBy object at 0x7fe448983220>"
      ]
     },
     "execution_count": 74,
     "metadata": {},
     "output_type": "execute_result"
    }
   ],
   "source": [
    "g_df_obj = g_df.groupby([\"PBR_score\", \"PER_score\"])\n",
    "g_df_obj\n",
    "# Grouping 가능"
   ]
  },
  {
   "cell_type": "code",
   "execution_count": 70,
   "metadata": {},
   "outputs": [
    {
     "data": {
      "text/plain": [
       "pandas.core.groupby.generic.DataFrameGroupBy"
      ]
     },
     "execution_count": 70,
     "metadata": {},
     "output_type": "execute_result"
    }
   ],
   "source": [
    "type(g_df_obj)"
   ]
  },
  {
   "cell_type": "code",
   "execution_count": 72,
   "metadata": {},
   "outputs": [
    {
     "data": {
      "text/plain": [
       "96"
      ]
     },
     "execution_count": 72,
     "metadata": {},
     "output_type": "execute_result"
    }
   ],
   "source": [
    "g_df_obj.ngroups"
   ]
  },
  {
   "cell_type": "code",
   "execution_count": 75,
   "metadata": {},
   "outputs": [
    {
     "data": {
      "text/plain": [
       "10"
      ]
     },
     "execution_count": 75,
     "metadata": {},
     "output_type": "execute_result"
    },
    {
     "data": {
      "text/plain": [
       "10"
      ]
     },
     "execution_count": 75,
     "metadata": {},
     "output_type": "execute_result"
    }
   ],
   "source": [
    "g_df['PBR_score'].nunique()\n",
    "g_df['PER_score'].nunique()"
   ]
  },
  {
   "cell_type": "markdown",
   "metadata": {},
   "source": [
    "### 4.2.2. aggregation"
   ]
  },
  {
   "cell_type": "markdown",
   "metadata": {},
   "source": [
    "- 반드시 \"aggregationg\" 기능이 있는 funciton을 써야함\n",
    "  - min,max,mean,median,sum,var,size,nunique,idxmax"
   ]
  },
  {
   "cell_type": "code",
   "execution_count": 87,
   "metadata": {},
   "outputs": [
    {
     "data": {
      "text/html": [
       "<div>\n",
       "<style scoped>\n",
       "    .dataframe tbody tr th:only-of-type {\n",
       "        vertical-align: middle;\n",
       "    }\n",
       "\n",
       "    .dataframe tbody tr th {\n",
       "        vertical-align: top;\n",
       "    }\n",
       "\n",
       "    .dataframe thead th {\n",
       "        text-align: right;\n",
       "    }\n",
       "</style>\n",
       "<table border=\"1\" class=\"dataframe\">\n",
       "  <thead>\n",
       "    <tr style=\"text-align: right;\">\n",
       "      <th></th>\n",
       "      <th>rtn</th>\n",
       "    </tr>\n",
       "    <tr>\n",
       "      <th>PBR_score</th>\n",
       "      <th></th>\n",
       "    </tr>\n",
       "  </thead>\n",
       "  <tbody>\n",
       "    <tr>\n",
       "      <th>1</th>\n",
       "      <td>-0.001</td>\n",
       "    </tr>\n",
       "    <tr>\n",
       "      <th>2</th>\n",
       "      <td>0.020</td>\n",
       "    </tr>\n",
       "    <tr>\n",
       "      <th>3</th>\n",
       "      <td>-0.021</td>\n",
       "    </tr>\n",
       "    <tr>\n",
       "      <th>4</th>\n",
       "      <td>0.161</td>\n",
       "    </tr>\n",
       "    <tr>\n",
       "      <th>5</th>\n",
       "      <td>-0.012</td>\n",
       "    </tr>\n",
       "    <tr>\n",
       "      <th>6</th>\n",
       "      <td>-0.043</td>\n",
       "    </tr>\n",
       "    <tr>\n",
       "      <th>7</th>\n",
       "      <td>0.150</td>\n",
       "    </tr>\n",
       "    <tr>\n",
       "      <th>8</th>\n",
       "      <td>0.058</td>\n",
       "    </tr>\n",
       "    <tr>\n",
       "      <th>9</th>\n",
       "      <td>0.139</td>\n",
       "    </tr>\n",
       "    <tr>\n",
       "      <th>10</th>\n",
       "      <td>0.054</td>\n",
       "    </tr>\n",
       "  </tbody>\n",
       "</table>\n",
       "</div>"
      ],
      "text/plain": [
       "             rtn\n",
       "PBR_score       \n",
       "1         -0.001\n",
       "2          0.020\n",
       "3         -0.021\n",
       "4          0.161\n",
       "5         -0.012\n",
       "6         -0.043\n",
       "7          0.150\n",
       "8          0.058\n",
       "9          0.139\n",
       "10         0.054"
      ]
     },
     "execution_count": 87,
     "metadata": {},
     "output_type": "execute_result"
    }
   ],
   "source": [
    "g_df.groupby(\"PBR_score\").agg(\n",
    "    {\n",
    "        \"rtn\":\"mean\" # = np.mean\n",
    "    }\n",
    ")\n",
    "# PBR_score로 Grouping하고 rtn의 평균값을 도출"
   ]
  },
  {
   "cell_type": "code",
   "execution_count": 89,
   "metadata": {},
   "outputs": [
    {
     "data": {
      "text/plain": [
       "PBR_score\n",
       "1   -0.001\n",
       "2    0.020\n",
       "3   -0.021\n",
       "4    0.161\n",
       "5   -0.012\n",
       "Name: rtn, dtype: float64"
      ]
     },
     "execution_count": 89,
     "metadata": {},
     "output_type": "execute_result"
    },
    {
     "data": {
      "text/html": [
       "<div>\n",
       "<style scoped>\n",
       "    .dataframe tbody tr th:only-of-type {\n",
       "        vertical-align: middle;\n",
       "    }\n",
       "\n",
       "    .dataframe tbody tr th {\n",
       "        vertical-align: top;\n",
       "    }\n",
       "\n",
       "    .dataframe thead th {\n",
       "        text-align: right;\n",
       "    }\n",
       "</style>\n",
       "<table border=\"1\" class=\"dataframe\">\n",
       "  <thead>\n",
       "    <tr style=\"text-align: right;\">\n",
       "      <th></th>\n",
       "      <th>rtn</th>\n",
       "    </tr>\n",
       "    <tr>\n",
       "      <th>PBR_score</th>\n",
       "      <th></th>\n",
       "    </tr>\n",
       "  </thead>\n",
       "  <tbody>\n",
       "    <tr>\n",
       "      <th>1</th>\n",
       "      <td>-0.001</td>\n",
       "    </tr>\n",
       "    <tr>\n",
       "      <th>2</th>\n",
       "      <td>0.020</td>\n",
       "    </tr>\n",
       "    <tr>\n",
       "      <th>3</th>\n",
       "      <td>-0.021</td>\n",
       "    </tr>\n",
       "    <tr>\n",
       "      <th>4</th>\n",
       "      <td>0.161</td>\n",
       "    </tr>\n",
       "    <tr>\n",
       "      <th>5</th>\n",
       "      <td>-0.012</td>\n",
       "    </tr>\n",
       "  </tbody>\n",
       "</table>\n",
       "</div>"
      ],
      "text/plain": [
       "             rtn\n",
       "PBR_score       \n",
       "1         -0.001\n",
       "2          0.020\n",
       "3         -0.021\n",
       "4          0.161\n",
       "5         -0.012"
      ]
     },
     "execution_count": 89,
     "metadata": {},
     "output_type": "execute_result"
    },
    {
     "data": {
      "text/html": [
       "<div>\n",
       "<style scoped>\n",
       "    .dataframe tbody tr th:only-of-type {\n",
       "        vertical-align: middle;\n",
       "    }\n",
       "\n",
       "    .dataframe tbody tr th {\n",
       "        vertical-align: top;\n",
       "    }\n",
       "\n",
       "    .dataframe thead th {\n",
       "        text-align: right;\n",
       "    }\n",
       "</style>\n",
       "<table border=\"1\" class=\"dataframe\">\n",
       "  <thead>\n",
       "    <tr style=\"text-align: right;\">\n",
       "      <th></th>\n",
       "      <th>rtn</th>\n",
       "    </tr>\n",
       "    <tr>\n",
       "      <th>PBR_score</th>\n",
       "      <th></th>\n",
       "    </tr>\n",
       "  </thead>\n",
       "  <tbody>\n",
       "    <tr>\n",
       "      <th>1</th>\n",
       "      <td>-0.001</td>\n",
       "    </tr>\n",
       "    <tr>\n",
       "      <th>2</th>\n",
       "      <td>0.020</td>\n",
       "    </tr>\n",
       "    <tr>\n",
       "      <th>3</th>\n",
       "      <td>-0.021</td>\n",
       "    </tr>\n",
       "    <tr>\n",
       "      <th>4</th>\n",
       "      <td>0.161</td>\n",
       "    </tr>\n",
       "    <tr>\n",
       "      <th>5</th>\n",
       "      <td>-0.012</td>\n",
       "    </tr>\n",
       "  </tbody>\n",
       "</table>\n",
       "</div>"
      ],
      "text/plain": [
       "             rtn\n",
       "PBR_score       \n",
       "1         -0.001\n",
       "2          0.020\n",
       "3         -0.021\n",
       "4          0.161\n",
       "5         -0.012"
      ]
     },
     "execution_count": 89,
     "metadata": {},
     "output_type": "execute_result"
    }
   ],
   "source": [
    "# 같은 방법\n",
    "g_df.groupby('PBR_score')['rtn'].mean().head()\n",
    "g_df.groupby('PBR_score')[['rtn']].mean().head()\n",
    "g_df.groupby('PBR_score')[['rtn']].agg(\"mean\").head()"
   ]
  },
  {
   "cell_type": "code",
   "execution_count": 90,
   "metadata": {},
   "outputs": [
    {
     "data": {
      "text/html": [
       "<div>\n",
       "<style scoped>\n",
       "    .dataframe tbody tr th:only-of-type {\n",
       "        vertical-align: middle;\n",
       "    }\n",
       "\n",
       "    .dataframe tbody tr th {\n",
       "        vertical-align: top;\n",
       "    }\n",
       "\n",
       "    .dataframe thead tr th {\n",
       "        text-align: left;\n",
       "    }\n",
       "\n",
       "    .dataframe thead tr:last-of-type th {\n",
       "        text-align: right;\n",
       "    }\n",
       "</style>\n",
       "<table border=\"1\" class=\"dataframe\">\n",
       "  <thead>\n",
       "    <tr>\n",
       "      <th></th>\n",
       "      <th colspan=\"2\" halign=\"left\">rtn</th>\n",
       "      <th colspan=\"2\" halign=\"left\">PBR(배)</th>\n",
       "    </tr>\n",
       "    <tr>\n",
       "      <th></th>\n",
       "      <th>mean</th>\n",
       "      <th>std</th>\n",
       "      <th>mean</th>\n",
       "      <th>std</th>\n",
       "    </tr>\n",
       "    <tr>\n",
       "      <th>PBR_score</th>\n",
       "      <th></th>\n",
       "      <th></th>\n",
       "      <th></th>\n",
       "      <th></th>\n",
       "    </tr>\n",
       "  </thead>\n",
       "  <tbody>\n",
       "    <tr>\n",
       "      <th>1</th>\n",
       "      <td>-0.001</td>\n",
       "      <td>0.262</td>\n",
       "      <td>0.355</td>\n",
       "      <td>0.121</td>\n",
       "    </tr>\n",
       "    <tr>\n",
       "      <th>2</th>\n",
       "      <td>0.020</td>\n",
       "      <td>0.280</td>\n",
       "      <td>0.519</td>\n",
       "      <td>0.029</td>\n",
       "    </tr>\n",
       "    <tr>\n",
       "      <th>3</th>\n",
       "      <td>-0.021</td>\n",
       "      <td>0.219</td>\n",
       "      <td>0.627</td>\n",
       "      <td>0.034</td>\n",
       "    </tr>\n",
       "    <tr>\n",
       "      <th>4</th>\n",
       "      <td>0.161</td>\n",
       "      <td>0.770</td>\n",
       "      <td>0.751</td>\n",
       "      <td>0.040</td>\n",
       "    </tr>\n",
       "    <tr>\n",
       "      <th>5</th>\n",
       "      <td>-0.012</td>\n",
       "      <td>0.265</td>\n",
       "      <td>0.889</td>\n",
       "      <td>0.043</td>\n",
       "    </tr>\n",
       "  </tbody>\n",
       "</table>\n",
       "</div>"
      ],
      "text/plain": [
       "             rtn       PBR(배)      \n",
       "            mean   std   mean   std\n",
       "PBR_score                          \n",
       "1         -0.001 0.262  0.355 0.121\n",
       "2          0.020 0.280  0.519 0.029\n",
       "3         -0.021 0.219  0.627 0.034\n",
       "4          0.161 0.770  0.751 0.040\n",
       "5         -0.012 0.265  0.889 0.043"
      ]
     },
     "execution_count": 90,
     "metadata": {},
     "output_type": "execute_result"
    }
   ],
   "source": [
    "g_df.groupby('PBR_score')[['rtn','PBR(배)']].agg([\"mean\",\"std\"]).head()"
   ]
  },
  {
   "cell_type": "code",
   "execution_count": 92,
   "metadata": {},
   "outputs": [
    {
     "data": {
      "text/html": [
       "<div>\n",
       "<style scoped>\n",
       "    .dataframe tbody tr th:only-of-type {\n",
       "        vertical-align: middle;\n",
       "    }\n",
       "\n",
       "    .dataframe tbody tr th {\n",
       "        vertical-align: top;\n",
       "    }\n",
       "\n",
       "    .dataframe thead tr th {\n",
       "        text-align: left;\n",
       "    }\n",
       "\n",
       "    .dataframe thead tr:last-of-type th {\n",
       "        text-align: right;\n",
       "    }\n",
       "</style>\n",
       "<table border=\"1\" class=\"dataframe\">\n",
       "  <thead>\n",
       "    <tr>\n",
       "      <th></th>\n",
       "      <th colspan=\"2\" halign=\"left\">rtn</th>\n",
       "      <th>PBR(배)</th>\n",
       "    </tr>\n",
       "    <tr>\n",
       "      <th></th>\n",
       "      <th>mean</th>\n",
       "      <th>std</th>\n",
       "      <th>mean</th>\n",
       "    </tr>\n",
       "    <tr>\n",
       "      <th>PBR_score</th>\n",
       "      <th></th>\n",
       "      <th></th>\n",
       "      <th></th>\n",
       "    </tr>\n",
       "  </thead>\n",
       "  <tbody>\n",
       "    <tr>\n",
       "      <th>1</th>\n",
       "      <td>-0.001</td>\n",
       "      <td>0.262</td>\n",
       "      <td>0.355</td>\n",
       "    </tr>\n",
       "    <tr>\n",
       "      <th>2</th>\n",
       "      <td>0.020</td>\n",
       "      <td>0.280</td>\n",
       "      <td>0.519</td>\n",
       "    </tr>\n",
       "    <tr>\n",
       "      <th>3</th>\n",
       "      <td>-0.021</td>\n",
       "      <td>0.219</td>\n",
       "      <td>0.627</td>\n",
       "    </tr>\n",
       "    <tr>\n",
       "      <th>4</th>\n",
       "      <td>0.161</td>\n",
       "      <td>0.770</td>\n",
       "      <td>0.751</td>\n",
       "    </tr>\n",
       "    <tr>\n",
       "      <th>5</th>\n",
       "      <td>-0.012</td>\n",
       "      <td>0.265</td>\n",
       "      <td>0.889</td>\n",
       "    </tr>\n",
       "    <tr>\n",
       "      <th>6</th>\n",
       "      <td>-0.043</td>\n",
       "      <td>0.251</td>\n",
       "      <td>1.056</td>\n",
       "    </tr>\n",
       "    <tr>\n",
       "      <th>7</th>\n",
       "      <td>0.150</td>\n",
       "      <td>0.704</td>\n",
       "      <td>1.222</td>\n",
       "    </tr>\n",
       "    <tr>\n",
       "      <th>8</th>\n",
       "      <td>0.058</td>\n",
       "      <td>0.472</td>\n",
       "      <td>1.504</td>\n",
       "    </tr>\n",
       "    <tr>\n",
       "      <th>9</th>\n",
       "      <td>0.139</td>\n",
       "      <td>0.669</td>\n",
       "      <td>2.089</td>\n",
       "    </tr>\n",
       "    <tr>\n",
       "      <th>10</th>\n",
       "      <td>0.054</td>\n",
       "      <td>0.464</td>\n",
       "      <td>4.732</td>\n",
       "    </tr>\n",
       "  </tbody>\n",
       "</table>\n",
       "</div>"
      ],
      "text/plain": [
       "             rtn       PBR(배)\n",
       "            mean   std   mean\n",
       "PBR_score                    \n",
       "1         -0.001 0.262  0.355\n",
       "2          0.020 0.280  0.519\n",
       "3         -0.021 0.219  0.627\n",
       "4          0.161 0.770  0.751\n",
       "5         -0.012 0.265  0.889\n",
       "6         -0.043 0.251  1.056\n",
       "7          0.150 0.704  1.222\n",
       "8          0.058 0.472  1.504\n",
       "9          0.139 0.669  2.089\n",
       "10         0.054 0.464  4.732"
      ]
     },
     "execution_count": 92,
     "metadata": {},
     "output_type": "execute_result"
    }
   ],
   "source": [
    "g_df.groupby(\"PBR_score\").agg(\n",
    "    {\n",
    "        \"rtn\":[\"mean\",\"std\"],\n",
    "        \"PBR(배)\" : \"mean\"\n",
    "    }\n",
    ")"
   ]
  },
  {
   "cell_type": "markdown",
   "metadata": {},
   "source": [
    "### 4.2.3. 주의 : nan은 groupby시 자동으로 filter out 되기 때문에, 미리 전처리 다 하는게 좋음"
   ]
  },
  {
   "cell_type": "code",
   "execution_count": 93,
   "metadata": {},
   "outputs": [
    {
     "data": {
      "text/html": [
       "<div>\n",
       "<style scoped>\n",
       "    .dataframe tbody tr th:only-of-type {\n",
       "        vertical-align: middle;\n",
       "    }\n",
       "\n",
       "    .dataframe tbody tr th {\n",
       "        vertical-align: top;\n",
       "    }\n",
       "\n",
       "    .dataframe thead th {\n",
       "        text-align: right;\n",
       "    }\n",
       "</style>\n",
       "<table border=\"1\" class=\"dataframe\">\n",
       "  <thead>\n",
       "    <tr style=\"text-align: right;\">\n",
       "      <th></th>\n",
       "      <th>a</th>\n",
       "      <th>b</th>\n",
       "    </tr>\n",
       "  </thead>\n",
       "  <tbody>\n",
       "    <tr>\n",
       "      <th>0</th>\n",
       "      <td>소형주</td>\n",
       "      <td>NaN</td>\n",
       "    </tr>\n",
       "    <tr>\n",
       "      <th>1</th>\n",
       "      <td>NaN</td>\n",
       "      <td>2.000</td>\n",
       "    </tr>\n",
       "    <tr>\n",
       "      <th>2</th>\n",
       "      <td>대형주</td>\n",
       "      <td>3.000</td>\n",
       "    </tr>\n",
       "    <tr>\n",
       "      <th>3</th>\n",
       "      <td>대형주</td>\n",
       "      <td>NaN</td>\n",
       "    </tr>\n",
       "  </tbody>\n",
       "</table>\n",
       "</div>"
      ],
      "text/plain": [
       "     a     b\n",
       "0  소형주   NaN\n",
       "1  NaN 2.000\n",
       "2  대형주 3.000\n",
       "3  대형주   NaN"
      ]
     },
     "execution_count": 93,
     "metadata": {},
     "output_type": "execute_result"
    }
   ],
   "source": [
    "df = pd.DataFrame({\n",
    "    'a':['소형주',np.nan,'대형주','대형주'],\n",
    "    'b':[np.nan,2,3,np.nan]\n",
    "})\n",
    "df"
   ]
  },
  {
   "cell_type": "code",
   "execution_count": 97,
   "metadata": {},
   "outputs": [
    {
     "data": {
      "text/plain": [
       "a\n",
       "대형주   3.000\n",
       "소형주     NaN\n",
       "Name: b, dtype: float64"
      ]
     },
     "execution_count": 97,
     "metadata": {},
     "output_type": "execute_result"
    }
   ],
   "source": [
    "df.groupby(['a'])['b'].mean()"
   ]
  },
  {
   "cell_type": "code",
   "execution_count": null,
   "metadata": {},
   "outputs": [],
   "source": []
  }
 ],
 "metadata": {
  "interpreter": {
   "hash": "aee8b7b246df8f9039afb4144a1f6fd8d2ca17a180786b69acc140d282b71a49"
  },
  "kernelspec": {
   "display_name": "Python 3.8.5 64-bit",
   "language": "python",
   "name": "python3"
  },
  "language_info": {
   "codemirror_mode": {
    "name": "ipython",
    "version": 3
   },
   "file_extension": ".py",
   "mimetype": "text/x-python",
   "name": "python",
   "nbconvert_exporter": "python",
   "pygments_lexer": "ipython3",
   "version": "3.8.5"
  },
  "orig_nbformat": 4
 },
 "nbformat": 4,
 "nbformat_minor": 2
}
